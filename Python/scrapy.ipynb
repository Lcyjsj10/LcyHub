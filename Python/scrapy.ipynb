{
 "cells": [
  {
   "cell_type": "code",
   "execution_count": 1,
   "metadata": {},
   "outputs": [
    {
     "name": "stdout",
     "output_type": "stream",
     "text": [
      "200\n",
      "<!DOCTYPE html>\n",
      "<!--STATUS OK--><html> <head><meta http-equiv=content-type content=text/html;charset=utf-8><meta http-equiv=X-UA-Compatible content=IE=Edge><meta content=always name=referrer><link rel=stylesheet type=text/css href=http://s1.bdstatic.com/r/www/cache/bdorz/baidu.min.css><title>百度一下，你就知道</title></head> <body link=#0000cc> <div id=wrapper> <div id=head> <div class=head_wrapper> <div class=s_form> <div class=s_form_wrapper> <div id=lg> <img hidefocus=true src=//www.baidu.com/img/bd_logo1.png width=270 height=129> </div> <form id=form name=f action=//www.baidu.com/s class=fm> <input type=hidden name=bdorz_come value=1> <input type=hidden name=ie value=utf-8> <input type=hidden name=f value=8> <input type=hidden name=rsv_bp value=1> <input type=hidden name=rsv_idx value=1> <input type=hidden name=tn value=baidu><span class=\"bg s_ipt_wr\"><input id=kw name=wd class=s_ipt value maxlength=255 autocomplete=off autofocus></span><span class=\"bg s_btn_wr\"><input type=submit id=su value=百度一下 class=\"bg s_btn\"></span> </form> </div> </div> <div id=u1> <a href=http://news.baidu.com name=tj_trnews class=mnav>新闻</a> <a href=http://www.hao123.com name=tj_trhao123 class=mnav>hao123</a> <a href=http://map.baidu.com name=tj_trmap class=mnav>地图</a> <a href=http://v.baidu.com name=tj_trvideo class=mnav>视频</a> <a href=http://tieba.baidu.com name=tj_trtieba class=mnav>贴吧</a> <noscript> <a href=http://www.baidu.com/bdorz/login.gif?login&amp;tpl=mn&amp;u=http%3A%2F%2Fwww.baidu.com%2f%3fbdorz_come%3d1 name=tj_login class=lb>登录</a> </noscript> <script>document.write('<a href=\"http://www.baidu.com/bdorz/login.gif?login&tpl=mn&u='+ encodeURIComponent(window.location.href+ (window.location.search === \"\" ? \"?\" : \"&\")+ \"bdorz_come=1\")+ '\" name=\"tj_login\" class=\"lb\">登录</a>');</script> <a href=//www.baidu.com/more/ name=tj_briicon class=bri style=\"display: block;\">更多产品</a> </div> </div> </div> <div id=ftCon> <div id=ftConw> <p id=lh> <a href=http://home.baidu.com>关于百度</a> <a href=http://ir.baidu.com>About Baidu</a> </p> <p id=cp>&copy;2017&nbsp;Baidu&nbsp;<a href=http://www.baidu.com/duty/>使用百度前必读</a>&nbsp; <a href=http://jianyi.baidu.com/ class=cp-feedback>意见反馈</a>&nbsp;京ICP证030173号&nbsp; <img src=//www.baidu.com/img/gs.gif> </p> </div> </div> </div> </body> </html>\n",
      "\n",
      "<class 'requests.models.Response'>\n",
      "{'Cache-Control': 'private, no-cache, no-store, proxy-revalidate, no-transform', 'Connection': 'keep-alive', 'Content-Encoding': 'gzip', 'Content-Type': 'text/html', 'Date': 'Mon, 25 Jul 2022 02:40:44 GMT', 'Last-Modified': 'Mon, 23 Jan 2017 13:27:36 GMT', 'Pragma': 'no-cache', 'Server': 'bfe/1.0.8.18', 'Set-Cookie': 'BDORZ=27315; max-age=86400; domain=.baidu.com; path=/', 'Transfer-Encoding': 'chunked'}\n"
     ]
    }
   ],
   "source": [
    "import requests \n",
    "r=requests.get(\"http://www.baidu.com\")\n",
    "print(r.status_code)\n",
    "r.encoding='utf-8'\n",
    "print(r.text)\n",
    "print(type(r))\n",
    "print(r.headers)"
   ]
  },
  {
   "cell_type": "code",
   "execution_count": null,
   "metadata": {},
   "outputs": [],
   "source": [
    "# get方法\n",
    "# r=requests.get(url)构造一个向服务器请求资源的requests对象，返回一个包含服务器资源的response对象\n",
    "# requests.get(url, params=None,**kwargs)\n",
    "# url:拟获取的url链接, params: url中的额外参数, 字典或字节流格式, 可选\n",
    "# **kwargs: 12个控制访问的参数\n"
   ]
  },
  {
   "cell_type": "markdown",
   "metadata": {},
   "source": [
    "## get方法\n",
    "r=requests.get(url)构造一个向服务器请求资源的requests对象，返回一个包含服务器资源的response对象(包含了爬虫返回的全部内容)\n",
    "## Response对象的属性\n",
    "r.status_code: HTTP请求的返回状态，200表示链接成功，404表示失败\n",
    "r.text: HTTP相应内容的字符串形式，即url对应的页面内容\n",
    "r.encoding: 从HTTP中猜测的相应内容编码方式\n",
    "r.appaent_encoding: 从内容中分析出的响应内容的编码方式(备选编码方式)\n",
    "r.content: HTTP响应内容的二进制形式"
   ]
  },
  {
   "cell_type": "code",
   "execution_count": 4,
   "metadata": {},
   "outputs": [
    {
     "name": "stdout",
     "output_type": "stream",
     "text": [
      "200\n",
      "ISO-8859-1\n",
      "utf-8\n"
     ]
    }
   ],
   "source": [
    "import requests\n",
    "r=requests.get(\"http://www.baidu.com\")\n",
    "print(r.status_code)\n",
    "print(r.encoding)\n",
    "print(r.apparent_encoding)\n"
   ]
  },
  {
   "cell_type": "code",
   "execution_count": 6,
   "metadata": {},
   "outputs": [
    {
     "name": "stdout",
     "output_type": "stream",
     "text": [
      "<!DOCTYPE html>\n",
      "<!--STATUS OK--><html> <head><meta http-equiv=content-type content=text/html;charset=utf-8><meta http-equiv=X-UA-Compatible content=IE=Edge><meta content=always name=referrer><link rel=stylesheet type=text/css href=http://s1.bdstatic.com/r/www/cache/bdorz/baidu.min.css><title>ç¾åº¦ä¸ä¸ï¼ä½ å°±ç¥é</title></head> <body link=#0000cc> <div id=wrapper> <div id=head> <div class=head_wrapper> <div class=s_form> <div class=s_form_wrapper> <div id=lg> <img hidefocus=true src=//www.baidu.com/img/bd_logo1.png width=270 height=129> </div> <form id=form name=f action=//www.baidu.com/s class=fm> <input type=hidden name=bdorz_come value=1> <input type=hidden name=ie value=utf-8> <input type=hidden name=f value=8> <input type=hidden name=rsv_bp value=1> <input type=hidden name=rsv_idx value=1> <input type=hidden name=tn value=baidu><span class=\"bg s_ipt_wr\"><input id=kw name=wd class=s_ipt value maxlength=255 autocomplete=off autofocus></span><span class=\"bg s_btn_wr\"><input type=submit id=su value=ç¾åº¦ä¸ä¸ class=\"bg s_btn\"></span> </form> </div> </div> <div id=u1> <a href=http://news.baidu.com name=tj_trnews class=mnav>æ°é»</a> <a href=http://www.hao123.com name=tj_trhao123 class=mnav>hao123</a> <a href=http://map.baidu.com name=tj_trmap class=mnav>å°å¾</a> <a href=http://v.baidu.com name=tj_trvideo class=mnav>è§é¢</a> <a href=http://tieba.baidu.com name=tj_trtieba class=mnav>è´´å§</a> <noscript> <a href=http://www.baidu.com/bdorz/login.gif?login&amp;tpl=mn&amp;u=http%3A%2F%2Fwww.baidu.com%2f%3fbdorz_come%3d1 name=tj_login class=lb>ç»å½</a> </noscript> <script>document.write('<a href=\"http://www.baidu.com/bdorz/login.gif?login&tpl=mn&u='+ encodeURIComponent(window.location.href+ (window.location.search === \"\" ? \"?\" : \"&\")+ \"bdorz_come=1\")+ '\" name=\"tj_login\" class=\"lb\">ç»å½</a>');</script> <a href=//www.baidu.com/more/ name=tj_briicon class=bri style=\"display: block;\">æ´å¤äº§å</a> </div> </div> </div> <div id=ftCon> <div id=ftConw> <p id=lh> <a href=http://home.baidu.com>å³äºç¾åº¦</a> <a href=http://ir.baidu.com>About Baidu</a> </p> <p id=cp>&copy;2017&nbsp;Baidu&nbsp;<a href=http://www.baidu.com/duty/>ä½¿ç¨ç¾åº¦åå¿è¯»</a>&nbsp; <a href=http://jianyi.baidu.com/ class=cp-feedback>æè§åé¦</a>&nbsp;äº¬ICPè¯030173å·&nbsp; <img src=//www.baidu.com/img/gs.gif> </p> </div> </div> </div> </body> </html>\n",
      "\n",
      "<!DOCTYPE html>\n",
      "<!--STATUS OK--><html> <head><meta http-equiv=content-type content=text/html;charset=utf-8><meta http-equiv=X-UA-Compatible content=IE=Edge><meta content=always name=referrer><link rel=stylesheet type=text/css href=http://s1.bdstatic.com/r/www/cache/bdorz/baidu.min.css><title>百度一下，你就知道</title></head> <body link=#0000cc> <div id=wrapper> <div id=head> <div class=head_wrapper> <div class=s_form> <div class=s_form_wrapper> <div id=lg> <img hidefocus=true src=//www.baidu.com/img/bd_logo1.png width=270 height=129> </div> <form id=form name=f action=//www.baidu.com/s class=fm> <input type=hidden name=bdorz_come value=1> <input type=hidden name=ie value=utf-8> <input type=hidden name=f value=8> <input type=hidden name=rsv_bp value=1> <input type=hidden name=rsv_idx value=1> <input type=hidden name=tn value=baidu><span class=\"bg s_ipt_wr\"><input id=kw name=wd class=s_ipt value maxlength=255 autocomplete=off autofocus></span><span class=\"bg s_btn_wr\"><input type=submit id=su value=百度一下 class=\"bg s_btn\"></span> </form> </div> </div> <div id=u1> <a href=http://news.baidu.com name=tj_trnews class=mnav>新闻</a> <a href=http://www.hao123.com name=tj_trhao123 class=mnav>hao123</a> <a href=http://map.baidu.com name=tj_trmap class=mnav>地图</a> <a href=http://v.baidu.com name=tj_trvideo class=mnav>视频</a> <a href=http://tieba.baidu.com name=tj_trtieba class=mnav>贴吧</a> <noscript> <a href=http://www.baidu.com/bdorz/login.gif?login&amp;tpl=mn&amp;u=http%3A%2F%2Fwww.baidu.com%2f%3fbdorz_come%3d1 name=tj_login class=lb>登录</a> </noscript> <script>document.write('<a href=\"http://www.baidu.com/bdorz/login.gif?login&tpl=mn&u='+ encodeURIComponent(window.location.href+ (window.location.search === \"\" ? \"?\" : \"&\")+ \"bdorz_come=1\")+ '\" name=\"tj_login\" class=\"lb\">登录</a>');</script> <a href=//www.baidu.com/more/ name=tj_briicon class=bri style=\"display: block;\">更多产品</a> </div> </div> </div> <div id=ftCon> <div id=ftConw> <p id=lh> <a href=http://home.baidu.com>关于百度</a> <a href=http://ir.baidu.com>About Baidu</a> </p> <p id=cp>&copy;2017&nbsp;Baidu&nbsp;<a href=http://www.baidu.com/duty/>使用百度前必读</a>&nbsp; <a href=http://jianyi.baidu.com/ class=cp-feedback>意见反馈</a>&nbsp;京ICP证030173号&nbsp; <img src=//www.baidu.com/img/gs.gif> </p> </div> </div> </div> </body> </html>\n",
      "\n"
     ]
    }
   ],
   "source": [
    "print(r.text)\n",
    "r.encoding='utf-8'\n",
    "print(r.text)"
   ]
  },
  {
   "cell_type": "markdown",
   "metadata": {},
   "source": [
    "r.encoding: 从HTTP header中猜测的响应内容的编码方式\n",
    "r.apparent_encoding: 从内容中分析出从响应内容编码方式(备选编码方式)\n",
    "* 注意：如果当header中不存在charset字段，则默认为编码设为ISO-8859-1, 所以requeasts库提供了一个备选编码"
   ]
  },
  {
   "cell_type": "code",
   "execution_count": 11,
   "metadata": {},
   "outputs": [
    {
     "name": "stdout",
     "output_type": "stream",
     "text": [
      "200\n",
      "{'Server': 'nginx', 'Date': 'Thu, 21 Jul 2022 07:33:55 GMT', 'Content-Type': 'text/html; charset=utf-8', 'Last-Modified': 'Thu, 21 Jul 2022 03:45:13 GMT', 'Transfer-Encoding': 'chunked', 'Connection': 'keep-alive', 'Vary': 'Accept-Encoding', 'ETag': 'W/\"62d8cbc9-b408\"', 'Content-Encoding': 'gzip'}\n",
      "utf-8\n",
      "utf-8\n"
     ]
    }
   ],
   "source": [
    "# practice\n",
    "import requests\n",
    "r=requests.get(\"https://www.uestc.edu.cn/\")\n",
    "print(r.status_code)\n",
    "print(r.headers)\n",
    "print(r.encoding)\n",
    "print(r.apparent_encoding)"
   ]
  },
  {
   "cell_type": "markdown",
   "metadata": {},
   "source": [
    "这里爬取电子科技大学的官网作为练习, 可以看出其headers中包含charset字段, 因此其encoding和apparent_encoding都是一样的"
   ]
  },
  {
   "cell_type": "markdown",
   "metadata": {},
   "source": [
    "## request库的异常\n",
    "requests.ConnectionError: 网络连接错误异常, 如DNS查询失败、拒绝连接等\n",
    "requests.HTTPError: HTTP错误异常\n",
    "requests.URLRequired: URL缺失异常\n",
    "requests.TooManyRedirects: 超过最大重定向次数, 产生重定向异常\n",
    "requests.ConnectTimeout: 连接远程服务器超时异常\n",
    "requests.Timeout: 请求URL超时, 产生超时异常\n",
    "* 注: ConnectTimeou与Timeout有所区别, ConnectTimeout仅指与服务器连接的超时异常, 而Timeout指从发起请求到收到请求的整个时间超过预定时间\n",
    "r.raise_for_status: 如果返回的状态是200, 则返回的状态是正确的, 如果不是200产生一个requests.HTTPError的异常"
   ]
  },
  {
   "cell_type": "code",
   "execution_count": 15,
   "metadata": {},
   "outputs": [
    {
     "name": "stdout",
     "output_type": "stream",
     "text": [
      "<!DOCTYPE html>\n",
      "<!--STATUS OK--><html> <head><meta http-equiv=content-type content=text/html;charset=utf-8><meta http-equiv=X-UA-Compatible content=IE=Edge><meta content=always name=referrer><link rel=stylesheet type=text/css href=http://s1.bdstatic.com/r/www/cache/bdorz/baidu.min.css><title>百度一下，你就知道</title></head> <body link=#0000cc> <div id=wrapper> <div id=head> <div class=head_wrapper> <div class=s_form> <div class=s_form_wrapper> <div id=lg> <img hidefocus=true src=//www.baidu.com/img/bd_logo1.png width=270 height=129> </div> <form id=form name=f action=//www.baidu.com/s class=fm> <input type=hidden name=bdorz_come value=1> <input type=hidden name=ie value=utf-8> <input type=hidden name=f value=8> <input type=hidden name=rsv_bp value=1> <input type=hidden name=rsv_idx value=1> <input type=hidden name=tn value=baidu><span class=\"bg s_ipt_wr\"><input id=kw name=wd class=s_ipt value maxlength=255 autocomplete=off autofocus></span><span class=\"bg s_btn_wr\"><input type=submit id=su value=百度一下 class=\"bg s_btn\"></span> </form> </div> </div> <div id=u1> <a href=http://news.baidu.com name=tj_trnews class=mnav>新闻</a> <a href=http://www.hao123.com name=tj_trhao123 class=mnav>hao123</a> <a href=http://map.baidu.com name=tj_trmap class=mnav>地图</a> <a href=http://v.baidu.com name=tj_trvideo class=mnav>视频</a> <a href=http://tieba.baidu.com name=tj_trtieba class=mnav>贴吧</a> <noscript> <a href=http://www.baidu.com/bdorz/login.gif?login&amp;tpl=mn&amp;u=http%3A%2F%2Fwww.baidu.com%2f%3fbdorz_come%3d1 name=tj_login class=lb>登录</a> </noscript> <script>document.write('<a href=\"http://www.baidu.com/bdorz/login.gif?login&tpl=mn&u='+ encodeURIComponent(window.location.href+ (window.location.search === \"\" ? \"?\" : \"&\")+ \"bdorz_come=1\")+ '\" name=\"tj_login\" class=\"lb\">登录</a>');</script> <a href=//www.baidu.com/more/ name=tj_briicon class=bri style=\"display: block;\">更多产品</a> </div> </div> </div> <div id=ftCon> <div id=ftConw> <p id=lh> <a href=http://home.baidu.com>关于百度</a> <a href=http://ir.baidu.com>About Baidu</a> </p> <p id=cp>&copy;2017&nbsp;Baidu&nbsp;<a href=http://www.baidu.com/duty/>使用百度前必读</a>&nbsp; <a href=http://jianyi.baidu.com/ class=cp-feedback>意见反馈</a>&nbsp;京ICP证030173号&nbsp; <img src=//www.baidu.com/img/gs.gif> </p> </div> </div> </div> </body> </html>\n",
      "\n",
      "产生异常\n"
     ]
    }
   ],
   "source": [
    "# 通用代码框架(用try...except...保证异常能被处理)\n",
    "import requests\n",
    "\n",
    "def GetHTMLText(url):\n",
    "    try:\n",
    "        r=requests.get(url,timeout=30)\n",
    "        r.raise_for_status()\n",
    "        r.encoding=r.apparent_encoding\n",
    "        return r.text\n",
    "    except:\n",
    "        return \"产生异常\"\n",
    "\n",
    "if __name__==\"__main__\":\n",
    "    url=\"http://www.baidu.com\"\n",
    "    print(GetHTMLText(url))\n",
    "    url=\"www.baidu.com\"\n",
    "    print(GetHTMLText(url))"
   ]
  },
  {
   "cell_type": "markdown",
   "metadata": {},
   "source": [
    "# requests库的7个主要方法\n",
    "requests.request(): 构造一个请求，支撑以下各方法的基础方法\n",
    "requests.get(): 获取HTML网页的主要方法, 对应于HTTP的GET\n",
    "requests.head(): 获取HTML网页头信息的方法, 对应于HTTP的HEAD\n",
    "requests.post(): 请求向URL的资源后附加新的资源\n",
    "requests.put(): 请求向URL位置存储一个资源, 覆盖原URL位置的资源\n",
    "requests.patch: 请求局部更新URL位置的资源, 即改变该处资源的部分内容\n",
    "requests.delete(): 请求删除URL位置存储的资源\n",
    "\n",
    "HTTP: Hypertext Transfer Protocol, 即超文本传输协议, 是一个基于“请求与响应”模式的无状态(前一次与后一次请求没有关联)应用层协议, HTTP协议采用URL作为定位网络资源的标识\n",
    "\n",
    "URL格式 http://host[:port][path]\n",
    "host: 合法的Internet主机域名或IP地址\n",
    "port: 端口号, 缺省端口为80\n",
    "path: 请求资源(在Internet主机或IP地址的服务器上包含的内部)路径\n",
    "* 实例: http://220.181.111.188/duty 表示IP地址为220.181.111.188的主机上duty目录下的资源\n",
    "* HTTP URL的理解: URL是通过HTTP协议存取资源的Internet路径, 一个URL对应一个数据资源\n",
    "\n",
    "## requests.request(method, url, **kwargs)\n",
    "**kwargs: 控制访问参数, 均为可选项\n",
    "\n"
   ]
  },
  {
   "cell_type": "markdown",
   "metadata": {},
   "source": [
    "# 第二章 网络爬虫引发的问题\n",
    "网络爬虫可分为以下三类\n",
    "小规模\n",
    "中规模\n",
    "大规模\n",
    "访问的软件或网站都会被设定一个标识放到User-Agent里\n",
    "\n",
    "# Robots协议"
   ]
  },
  {
   "cell_type": "code",
   "execution_count": null,
   "metadata": {},
   "outputs": [],
   "source": [
    "# 实例一: 京东商品的爬取\n",
    "import requests\n",
    "\n",
    "r=requests.get(\"http://item.jd.com/2967929.html\")\n",
    "print(r.status_code)\n",
    "print(r.encoding)   \n",
    "print(r.headers)   \n",
    "print(r.text[:1000]) "
   ]
  },
  {
   "cell_type": "code",
   "execution_count": null,
   "metadata": {},
   "outputs": [],
   "source": [
    "# 亚马逊商品页面的爬取\n",
    "import requests\n",
    "r=requests.get(\"https://www.amazon.cn/gp/product/B01M8L5Z3Y\")\n",
    "print(r.status_code)\n",
    "print(r.encoding)\n",
    "r.encoding=r.apparent_encoding\n",
    "print(r.text[:1000])\n",
    "print(r.encoding)\n",
    "print(r.request.headers)\n",
    "print(r.headers)\n",
    "#模拟浏览器获取请求\n",
    "kv={'user-agent':'Mozilla/5.0'}\n",
    "url=\"https://www.amazon.cn/gp/product/B01M8L5Z3Y\"\n",
    "r=requests.get(url,headers=kv)\n",
    "print(r.request.headers)\n",
    "r.encoding=r.apparent_encoding\n",
    "print(r.text[:1000])"
   ]
  },
  {
   "cell_type": "code",
   "execution_count": 10,
   "metadata": {},
   "outputs": [
    {
     "name": "stdout",
     "output_type": "stream",
     "text": [
      "200\n",
      "<!DOCTYPE html>\n",
      "<html lang=\"zh-CN\">\n",
      "<head>\n",
      "    <meta charset=\"utf-8\">\n",
      "    <title>ç¾åº¦å®å¨éªè¯</title>\n",
      "    <meta http-equiv=\"Content-Type\" content=\"text/html; charset=utf-8\">\n",
      "    <meta name=\"apple-mobile-web-app-capable\" content=\"yes\">\n",
      "    <meta name=\"apple-mobile-web-app-status-bar-style\" content=\"black\">\n",
      "    <meta name=\"viewport\" content=\"width=device-width, user-scalable=no, initial-scale=1.0, minimum-scale=1.0, maximum-scale=1.0\">\n",
      "    <meta name=\"format-detection\" content=\"telephone=no, email=no\">\n",
      "    <link rel=\"shortcut icon\" href=\"https://www.baidu.com/favicon.ico\" type=\"image/x-icon\">\n",
      "    <link rel=\"icon\" sizes=\"any\" mask href=\"https://www.baidu.com/img/baidu.svg\">\n",
      "    <meta http-equiv=\"X-UA-Compatible\" content=\"IE=Edge\">\n",
      "    <meta http-equiv=\"Content-Security-Policy\" content=\"upgrade-insecure-requests\">\n",
      "    <link rel=\"stylesheet\" href=\"https://ppui-static-wap.cdn.bcebos.com/static/touch/css/api/mkdjump_0635445.css\" />\n",
      "</head>\n",
      "<body>\n",
      "    <div class=\"timeout hide\">\n",
      "        <\n"
     ]
    }
   ],
   "source": [
    "# 百度360搜索提交\n",
    "import requests\n",
    "kv={'wd':'Python'}\n",
    "r=requests.get(\"http://www.baidu.com/s\",params=kv)\n",
    "print(r.status_code)\n",
    "\n",
    "len(r.text)\n",
    "print(r.text[:1000])"
   ]
  },
  {
   "cell_type": "markdown",
   "metadata": {},
   "source": [
    "# 网络图片的爬取和存储\n",
    "网络图片链接的格式: http://www.example.com/picture.jpg"
   ]
  },
  {
   "cell_type": "code",
   "execution_count": 6,
   "metadata": {},
   "outputs": [
    {
     "name": "stdout",
     "output_type": "stream",
     "text": [
      "200\n"
     ]
    }
   ],
   "source": [
    "# 网络图片的爬取和存储\n",
    "import requests\n",
    "path = \"D:/abc.jpg\"\n",
    "url=\"https://img.sj33.cn/uploads/allimg/201603/09104061A-12.jpg\"\n",
    "\n",
    "r=requests.get(url)\n",
    "print(r.status_code)\n",
    "r.encoding=r.apparent_encoding\n",
    "with open(path,'wb') as f:\n",
    "    f.write(r.content)\n",
    "f.close()"
   ]
  },
  {
   "cell_type": "code",
   "execution_count": 13,
   "metadata": {},
   "outputs": [
    {
     "name": "stdout",
     "output_type": "stream",
     "text": [
      "503\n",
      "\n"
     ]
    }
   ],
   "source": [
    "# IP地址归属地的自动查询\n",
    "import requests\n",
    "url = \"http://m.ip138.com/ip.asp?ip=\"\n",
    "r=requests.get(url+'202.204.80.112')\n",
    "print(r.status_code)\n",
    "r.encoding=r.apparent_encoding\n",
    "print(r.text[-500:])"
   ]
  },
  {
   "cell_type": "code",
   "execution_count": 4,
   "metadata": {},
   "outputs": [
    {
     "name": "stdout",
     "output_type": "stream",
     "text": [
      "<html><head><title>This is a python demo page</title></head>\n",
      "<body>\n",
      "<p class=\"title\"><b>The demo python introduces several python courses.</b></p>\n",
      "<p class=\"course\">Python is a wonderful general-purpose programming language. You can learn Python from novice to professional by tracking the following courses:\n",
      "<a href=\"http://www.icourse163.org/course/BIT-268001\" class=\"py1\" id=\"link1\">Basic Python</a> and <a href=\"http://www.icourse163.org/course/BIT-1001870001\" class=\"py2\" id=\"link2\">Advanced Python</a>.</p>\n",
      "</body></html>\n",
      "<html>\n",
      " <head>\n",
      "  <title>\n",
      "   This is a python demo page\n",
      "  </title>\n",
      " </head>\n",
      " <body>\n",
      "  <p class=\"title\">\n",
      "   <b>\n",
      "    The demo python introduces several python courses.\n",
      "   </b>\n",
      "  </p>\n",
      "  <p class=\"course\">\n",
      "   Python is a wonderful general-purpose programming language. You can learn Python from novice to professional by tracking the following courses:\n",
      "   <a class=\"py1\" href=\"http://www.icourse163.org/course/BIT-268001\" id=\"link1\">\n",
      "    Basic Python\n",
      "   </a>\n",
      "   and\n",
      "   <a class=\"py2\" href=\"http://www.icourse163.org/course/BIT-1001870001\" id=\"link2\">\n",
      "    Advanced Python\n",
      "   </a>\n",
      "   .\n",
      "  </p>\n",
      " </body>\n",
      "</html>\n",
      "<Html><Head><Title>This Is A Python Demo Page</Title></Head>\n",
      "<Body>\n",
      "<P Class=\"Title\"><B>The Demo Python Introduces Several Python Courses.</B></P>\n",
      "<P Class=\"Course\">Python Is A Wonderful General-Purpose Programming Language. You Can Learn Python From Novice To Professional By Tracking The Following Courses:\n",
      "<A Href=\"Http://Www.Icourse163.Org/Course/Bit-268001\" Class=\"Py1\" Id=\"Link1\">Basic Python</A> And <A Href=\"Http://Www.Icourse163.Org/Course/Bit-1001870001\" Class=\"Py2\" Id=\"Link2\">Advanced Python</A>.</P>\n",
      "</Body></Html>\n",
      "<a class=\"py1\" href=\"http://www.icourse163.org/course/BIT-268001\" id=\"link1\">Basic Python</a>\n"
     ]
    }
   ],
   "source": [
    "import requests\n",
    "from bs4 import BeautifulSoup\n",
    "url=\"http://python123.io/ws/demo.html\"\n",
    "r=requests.get(url)\n",
    "print(r.text)\n",
    "demo=r.text\n",
    "soup=BeautifulSoup(demo,\"html.parser\")\n",
    "print(soup.prettify())\n",
    "print(demo.title())\n",
    "tag=soup.a\n",
    "print(tag)"
   ]
  },
  {
   "cell_type": "code",
   "execution_count": 17,
   "metadata": {},
   "outputs": [
    {
     "name": "stdout",
     "output_type": "stream",
     "text": [
      "a\n",
      "p\n",
      "body\n",
      "{'href': 'http://www.icourse163.org/course/BIT-268001', 'class': ['py1'], 'id': 'link1'}\n",
      "['py1']\n",
      "http://www.icourse163.org/course/BIT-268001\n",
      "<class 'dict'>\n",
      "<class 'bs4.element.Tag'>\n",
      "<class 'bs4.element.NavigableString'>\n",
      "<class 'bs4.element.NavigableString'>\n"
     ]
    }
   ],
   "source": [
    "from bs4 import BeautifulSoup\n",
    "soup=BeautifulSoup(demo,\"html.parser\")\n",
    "print(soup.a.name)\n",
    "print(soup.a.parent.name)\n",
    "print(soup.a.parent.parent.name)\n",
    "tag=soup.a\n",
    "print(tag.attrs)\n",
    "print(tag.attrs['class'])\n",
    "print(tag.attrs['href'])\n",
    "print(type(tag.attrs))\n",
    "print(type(tag))\n",
    "print(type(soup.a.string))\n",
    "print(type(soup.p.string))"
   ]
  },
  {
   "cell_type": "code",
   "execution_count": 22,
   "metadata": {},
   "outputs": [
    {
     "name": "stdout",
     "output_type": "stream",
     "text": [
      "This is a comment\n",
      "<class 'bs4.element.Comment'>\n",
      "<class 'bs4.element.NavigableString'>\n"
     ]
    }
   ],
   "source": [
    "newsoup=BeautifulSoup(\"<b><!--This is a comment--></b><p>This is not a comment</p>\",\"html.parser\")\n",
    "print(newsoup.b.string)\n",
    "print(type(newsoup.b.string))\n",
    "print(type(newsoup.p.string))\n"
   ]
  }
 ],
 "metadata": {
  "kernelspec": {
   "display_name": "Python 3.10.5 64-bit",
   "language": "python",
   "name": "python3"
  },
  "language_info": {
   "codemirror_mode": {
    "name": "ipython",
    "version": 3
   },
   "file_extension": ".py",
   "mimetype": "text/x-python",
   "name": "python",
   "nbconvert_exporter": "python",
   "pygments_lexer": "ipython3",
   "version": "3.10.5"
  },
  "orig_nbformat": 4,
  "vscode": {
   "interpreter": {
    "hash": "369f2c481f4da34e4445cda3fffd2e751bd1c4d706f27375911949ba6bb62e1c"
   }
  }
 },
 "nbformat": 4,
 "nbformat_minor": 2
}
